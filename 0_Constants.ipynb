{
 "cells": [
  {
   "cell_type": "code",
   "execution_count": 1,
   "id": "d53563ed",
   "metadata": {},
   "outputs": [],
   "source": [
    "F_INPUT='data.csv'\n",
    "F_1_TRAIN_INTERM='1_train.csv'\n",
    "F_1_TRAIN_ENCODED='1_train_encoded.csv'\n",
    "F_1_TEST_INTERM='1_test.csv'\n",
    "F_1_TEST_ENCODED='1_test_encoded.csv'\n",
    "DATA_INPUT_DIR='./data/input'\n",
    "DATA_OUTPUT_DIR='./data/output'\n",
    "N_ROWS=100000\n",
    "CROSS_VAL_RATIO=0.2\n",
    "CROSS_VAL_SEED=42"
   ]
  },
  {
   "cell_type": "code",
   "execution_count": 6,
   "id": "05517b11",
   "metadata": {},
   "outputs": [
    {
     "name": "stdout",
     "output_type": "stream",
     "text": [
      "Stored 'F_1_TRAIN_INTERM' (str)\n",
      "Stored 'F_1_TRAIN_ENCODED' (str)\n",
      "Stored 'F_1_TEST_INTERM' (str)\n",
      "Stored 'F_1_TEST_ENCODED' (str)\n",
      "Stored 'DATA_INPUT_DIR' (str)\n",
      "Stored 'DATA_OUTPUT_DIR' (str)\n",
      "Stored 'F_INPUT' (str)\n",
      "Stored 'N_ROWS' (int)\n",
      "Stored 'CROSS_VAL_RATIO' (float)\n",
      "Stored 'CROSS_VAL_SEED' (int)\n"
     ]
    }
   ],
   "source": [
    "%store F_1_TRAIN_INTERM\n",
    "%store F_1_TRAIN_ENCODED\n",
    "%store F_1_TEST_INTERM\n",
    "%store F_1_TEST_ENCODED\n",
    "%store DATA_INPUT_DIR\n",
    "%store DATA_OUTPUT_DIR\n",
    "%store F_INPUT\n",
    "%store N_ROWS\n",
    "%store CROSS_VAL_RATIO\n",
    "%store CROSS_VAL_SEED"
   ]
  },
  {
   "cell_type": "code",
   "execution_count": null,
   "id": "8e4f8b78",
   "metadata": {},
   "outputs": [],
   "source": []
  }
 ],
 "metadata": {
  "kernelspec": {
   "display_name": "Python 3 (ipykernel)",
   "language": "python",
   "name": "python3"
  },
  "language_info": {
   "codemirror_mode": {
    "name": "ipython",
    "version": 3
   },
   "file_extension": ".py",
   "mimetype": "text/x-python",
   "name": "python",
   "nbconvert_exporter": "python",
   "pygments_lexer": "ipython3",
   "version": "3.10.9"
  }
 },
 "nbformat": 4,
 "nbformat_minor": 5
}
